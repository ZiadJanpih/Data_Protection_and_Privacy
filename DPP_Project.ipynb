{
 "cells": [
  {
   "cell_type": "markdown",
   "metadata": {},
   "source": [
    "<h1><center> Towards Identity Anonymization on Graphs</center></h1>\n",
    "\n",
    "#### Amer Al Khoury $(4844260)$, Ziad Janpih $(4851321)$"
   ]
  },
  {
   "cell_type": "code",
   "execution_count": 32,
   "metadata": {},
   "outputs": [],
   "source": [
    "import networkx as nx\n",
    "import numpy as np\n",
    "import matplotlib.pyplot as plt\n",
    "from random import randrange\n",
    "import operator\n",
    "import time\n",
    "import multiprocessing as mp\n",
    "import KDgree as kd"
   ]
  },
  {
   "cell_type": "markdown",
   "metadata": {},
   "source": [
    "#### Function - readGraphFromFile -\n",
    "\n",
    "A function that takes two parameters, finally generates a graph object of the networkX library, which is a library that helps to manipulate graphs:\n",
    "1. **name:** The file name that contains the graph data\n",
    "2. **andDraw:** A boolean variable that provides information about drawing the graph after reading the graph data or not "
   ]
  },
  {
   "cell_type": "code",
   "execution_count": 2,
   "metadata": {},
   "outputs": [],
   "source": [
    "def readGraphFromFile(name, andDraw = False):\n",
    "    Data = open(name, \"r\")\n",
    "    graphType = nx.Graph()\n",
    "    graph = nx.parse_edgelist(Data, delimiter=',', create_using=graphType, nodetype=int)\n",
    "    if (andDraw):\n",
    "        nx.draw(graph)\n",
    "    return graph"
   ]
  },
  {
   "cell_type": "markdown",
   "metadata": {},
   "source": [
    "## 1. Introduction to Graphs"
   ]
  },
  {
   "cell_type": "markdown",
   "metadata": {},
   "source": [
    "A graph is a nonlinear data structure that represents a pictorial structure of a set of objects that are connected by links. A graph represents data as a network. Two major components in a graph are nodes and edges. A node is a data element while an edge is a link that helps to connect vertices. There are mainly two types of graphs, directed and undirected graphs."
   ]
  },
  {
   "cell_type": "markdown",
   "metadata": {},
   "source": [
    "### 1.1. Undirected Graph\n",
    "\n",
    "When a graph has an unordered pair of vertexes, it is an undirected graph. In other words, there is no specific direction to represent the edges. The nodes connect by undirected arcs, which are edges without arrows. If there is an edge between node A and node B, it is possible to traverse from B to A, or A to B as there is no specific direction.\n",
    "\n",
    "<center><img src=\"./Images/Undirected Graph.png\" alt=\"logo\" width=\"250\"/> </center>\n",
    "\n",
    "Above is an undirected graph. There is no direction on any of the edges. It is possible to traverse from 2 to 3, 3 to 2, 1 to 3, 3 to 1, ... etc.\n",
    "<br> Set of nodes (V) – {1, 2, 3, 4}\n",
    "<br> Set of edges (E) – {(1, 2), (2, 1), (2, 3), (3, 2), (1, 3), (3, 1), (3, 4), (4, 3)}"
   ]
  },
  {
   "cell_type": "markdown",
   "metadata": {},
   "source": [
    "### 1.2. Directed Graph\n",
    "\n",
    "When a graph has an ordered pair of nodes, it is called a directed graph. The edges of the graph represent a specific direction from one node to another. When there is an edge representation as (V1, V2), the direction is from V1 to V2. The first element V1 is the initial or the start node. The second element V2 is the terminal or the end vertex.\n",
    "\n",
    "<center><img src=\"./Images/Directed Graph.png\" alt=\"logo\" width=\"250\"/> </center>\n",
    "\n",
    "In the above graph, node A connects to node B. A is the initial node and node B is the terminal node. The direction is from A to B. Therefore; we cannot consider B to A direction. Similarly, node D connects to node B. D is the initial node while B is the terminal node. The direction is from D to B, and we cannot consider B to D. Likewise, the connected nodes have specific directions.\n",
    "<br> Set of nodes (V) – {A, B, C, D, E, F}\n",
    "<br> Set of edges (E) – {(A, B), (B, C), (C, E), (E, D), (D, E), (E, F)}"
   ]
  },
  {
   "cell_type": "markdown",
   "metadata": {},
   "source": [
    "### 1.3. Degree Sequence\n",
    "\n",
    "For an undirected graph $(G)$, a node $(v)$ degree is defined by the number of edges that it has. For a specific graph, we can create a *set* of all the graph's nodes degrees: $\\big\\{5, 4, 6, 4, 4, 2, 3\\big\\}$.\n",
    "<br> Now we can define a degree sequence $(d_{G})$ of a graph $(G)$ as a decreasing order of its nodes' degrees: $\\big\\{6, 5, 4, 4, 4, 3, 2\\big\\}$"
   ]
  },
  {
   "cell_type": "markdown",
   "metadata": {},
   "source": [
    "#### Function - getNodesDegreesArray -\n",
    "\n",
    "A function that takes a graph object, and returns a degree sequence of the entered graph"
   ]
  },
  {
   "cell_type": "code",
   "execution_count": 3,
   "metadata": {},
   "outputs": [],
   "source": [
    "def getNodesDegreesArray(graph):\n",
    "    degrees = list(graph.degree())\n",
    "    sortedDegrees = sorted(degrees, key=lambda x:x[1], reverse=True)\n",
    "    return sortedDegrees"
   ]
  },
  {
   "cell_type": "markdown",
   "metadata": {},
   "source": [
    "Or"
   ]
  },
  {
   "cell_type": "markdown",
   "metadata": {},
   "source": [
    "#### Example:"
   ]
  },
  {
   "cell_type": "code",
   "execution_count": 4,
   "metadata": {},
   "outputs": [
    {
     "data": {
      "image/png": "[encoded data removed]",
      "text/plain": [
       "<Figure size 432x288 with 1 Axes>"
      ]
     },
     "metadata": {},
     "output_type": "display_data"
    }
   ],
   "source": [
    "graph = readGraphFromFile('Datasets/Graph_10.csv', True)"
   ]
  },
  {
   "cell_type": "code",
   "execution_count": 5,
   "metadata": {},
   "outputs": [
    {
     "name": "stdout",
     "output_type": "stream",
     "text": [
      "[(8, 5), (1, 4), (4, 4), (6, 4), (5, 4), (2, 3), (3, 3), (9, 3), (7, 2)]\n"
     ]
    }
   ],
   "source": [
    "degreeSequence = getNodesDegreesArray(graph)\n",
    "print(degreeSequence)"
   ]
  },
  {
   "cell_type": "markdown",
   "metadata": {},
   "source": [
    "***"
   ]
  },
  {
   "cell_type": "markdown",
   "metadata": {},
   "source": [
    "## 2. Graph Anonymization"
   ]
  },
  {
   "cell_type": "markdown",
   "metadata": {},
   "source": [
    "Organizations or companies could sell data or graph data, but selling data as it is don't meet the privacy purposes of the users to that the data is related. So those organizations work on anonymizing the users' data before selling it. For example, the social data, which is represented as a graph, could suffer from privacy breaches that we can categorize into three categories:\n",
    "1. **Identity Disclosure:** The identity of the individual who is associated with the node is revealed.\n",
    "2. **Link Disclosure:** Sensitive relationships between two individuals are disclosed.\n",
    "3. **Content Disclosure:** The privacy data associated with each node is breached, e.g., the individuals’ email sent and/or received in an email communication graph.\n",
    "\n",
    "During the following study, we will foucus on the identity disclosure"
   ]
  },
  {
   "cell_type": "markdown",
   "metadata": {},
   "source": [
    "### 2.1. K-degree Anonymization:\n",
    "\n",
    "The anonymization process ensures that for each node $v$ inside a specific graph $G$, there are at least $k-1$ nodes that have the same degree as $v$.\n",
    "<br>If a graph $G$ has $n$ nodes, so the degree sequance $d_{G}$ of graph $G$ is a vector of size $n = |V|$, such that $d_{G}(i)$ is a degree of the $i_{th}$ node of $G$. Also, the vector $d_{G}$ is in decreasing order that means $d_{G}(1) \\ge d_{G}(2) \\ge ... \\ge d_{G}(n)$\n",
    "\n",
    "We consider the vector $d_{G}$ is *k-anonymized* if every item in $d_{G}$ appear at least k times. So, a graph $G (V, E)$ is *k-anonymized* if the degree sequence of $G$, $d_{G}$, is *k-anonymized*. \n",
    "<br>For example: $v = [5, 5, 3, 3, 2, 2, 2]$ is *2-anonymized*\n",
    "<br>Also, we can say. If a graph $G$ is $K_{1}$-degree anonymous, so it also $K_{2}$-degree anonymous, if and only if $K_{1} \\ge K_{2}$\n",
    "\n",
    "<center><img src=\"./Images/example KA.png\" alt=\"logo\" width=\"350\"/> </center>\n",
    "\n",
    "The left graph is 3-degree anonymous, and the right graph is 2-degree anonymous."
   ]
  },
  {
   "cell_type": "markdown",
   "metadata": {},
   "source": [
    "#### 2.1.1. Cost Function\n",
    "\n",
    "We can measure the anonymization by using a cost function. The cost equation is written as below:\n",
    "$$\n",
    "\\begin{equation}\n",
    "L_{1}\\big(d_{G}, d_{\\hat{G}}\\big) = \\sum_{i=1}^{n} \\Bigg| \\, d_{\\hat{G}}(i) - d_{G}(i) \\, \\Bigg| \n",
    "\\end{equation}\n",
    "$$\n",
    "\n",
    "For a given Graph $G$, knowing that the anonymized graph is $\\hat{G}$, the cost function is calculated by summing the differences between $d_{\\hat{G}}$ and $d_{G}$ \n"
   ]
  },
  {
   "cell_type": "markdown",
   "metadata": {},
   "source": [
    "### 2.2. K-degree Anonymization Algorithms:\n",
    "\n",
    "These algorithms work on taking as an input a graph $G$ and an integer $K$, in order to finally produce a k-degree anonymized graph $\\hat{G}$. Taking into consideration minimizing the cost $L_{1}$. There are two algorithms work on achieving the previous definition, Dynamic Programming Algorithm and Greedy Approach Algorithm. In this section, we will see each algorithm in details.\n"
   ]
  },
  {
   "cell_type": "markdown",
   "metadata": {},
   "source": [
    "#### 2.2.1. Dynamic Programming Algorithm (DP)\n",
    "\n",
    "Let's assume that we have a graph $G$ with a degree sequance $d$ of dimention $n$, and according to the definition $d $ will be sorted in decreasing order, so:\n",
    "$$\n",
    "\\begin{equation}\n",
    "d\\big(1\\big) \\ge d\\big(2\\big) \\ge ... \\ge d\\big(n\\big)\n",
    "\\end{equation}\n",
    "$$\n",
    "\n",
    "$Da\\big(d[1,i]\\big)$ be the degree anonymization cost of the sub-sequence $d[1,i]$. Also let, $I\\big(d[i,j]\\big)$ be the anonymization cost when all the elements from $d(i), d(i+1), ..., d(j)$ are assigned the same value as $d(i)$. i.e.\n",
    "$$\n",
    "\\begin{equation}\n",
    "I(d[i,j]) = \\sum_{l=i}^{j}\\big(d(i) - d(l)\\big)\n",
    "\\end{equation}\n",
    "$$\n",
    "\n",
    "According to these assumptions, the dynamic algorithm is working as the following:\n",
    "1. When, $k \\gt \\frac{i}{2}$, it is *impossible* to form two groups with distinct values. So, we put them in the same group. E.g. for a 3-Degree anonymization of a sub-sequence $d[1,4] = \\big\\{4,3,2,1\\big\\}$ has to be $\\big\\{4,4,4,4\\big\\}$. So, the cost of anonymization can be calculated like the following, \n",
    "$$\n",
    "\\begin{equation}\n",
    "Da\\big(d[1,i]\\big) = I\\big(d[1,i]\\big)\n",
    "\\end{equation}\n",
    "$$\n",
    "<br>\n",
    "2. When, $k \\le \\frac{i}{2}$ the degree sequence can be broken down in smaller sub-sequences recursively until the size of the sub-sequence follows *Condition 1*. At this stage, every recursive step will have some part of the degree sequence with a length $\\lt 2k$ and for the rest of the sub-sequence we can apply the same method recurssively. And the total cost for that step will be sum over the cost of putting the a chunk in the same group and the cost of anonymizing the rest of the degree sequence recursively. And then we can *vary* the size of each chunk $t$ and take the take the anonymized sequence with mininum cost and return it to the previous recurssive stage in the *heap*.\n",
    "<br>\n",
    "$$\n",
    "\\begin{equation}\n",
    "Da\\big(d[1, i]\\big) = \\min\\bigg\\{ \\min_{k \\, \\le \\, t \\, \\le \\, i-k}\\Big\\{Da\\big(d[1, t]\\big)+I\\big(d[t+1, \\, i-k]\\big)\\Big\\}, \\; I\\big(d[1, i]\\big)\\bigg\\}\n",
    "\\end{equation}\n",
    "$$\n"
   ]
  },
  {
   "cell_type": "markdown",
   "metadata": {},
   "source": [
    "##### Python Implementation\n",
    "\n",
    "The algorithm implemenetation is as below:"
   ]
  },
  {
   "cell_type": "code",
   "execution_count": 6,
   "metadata": {},
   "outputs": [],
   "source": [
    "def Identical(d):\n",
    "    cost =sum(d[0][1]-d[i][1] for i in range(len(d)))\n",
    "    I = [(d[i][0],d[0][1]) for i in range(len(d))]\n",
    "    return cost, I\n",
    "        \n",
    "def DPA_GetAnonymizedDegrees(d, k):\n",
    "    nodesCount = len(d)\n",
    "\n",
    "    if  nodesCount < 2*k:\n",
    "        return Identical(d)\n",
    "    else:\n",
    "        pairs=[]\n",
    "        for t in range( k , nodesCount-k+1 , 1):\n",
    "            DAcost,DA_d =DPA_GetAnonymizedDegrees(d[0:t],k)\n",
    "            DA_Icost,DA_Id=Identical(d[t:nodesCount])\n",
    "            All_cost=DAcost+DA_Icost\n",
    "            All_d=DA_d+DA_Id\n",
    "            Icost,Id=Identical(d[0:nodesCount])\n",
    "            if(All_cost >Icost ):\n",
    "                pairs.append((Icost,Id))\n",
    "            else:\n",
    "                pairs.append((All_cost,All_d))\n",
    "            \n",
    "        return   min(pairs, key=operator.itemgetter(0))\n",
    "\n",
    "\n",
    "\n"
   ]
  },
  {
   "cell_type": "markdown",
   "metadata": {},
   "source": [
    "##### Checking if our algorithm actually works\n",
    "Based on the previously created degree sequance, let's check our dynamic programing graph anonymization algorithm."
   ]
  },
  {
   "cell_type": "code",
   "execution_count": 7,
   "metadata": {},
   "outputs": [
    {
     "name": "stdout",
     "output_type": "stream",
     "text": [
      "Original Degree Sequence\n",
      "[(8, 5), (1, 4), (4, 4), (6, 4), (5, 4), (2, 3), (3, 3), (9, 3), (7, 2)]\n",
      "Anonymized Degree Sequence\n",
      "[(8, 5), (1, 5), (4, 5), (6, 4), (5, 4), (2, 4), (3, 3), (9, 3), (7, 3)]\n",
      "Anonymization cost is :  4\n"
     ]
    }
   ],
   "source": [
    "k = 3\n",
    "cost, d_hat = DPA_GetAnonymizedDegrees(degreeSequence, k)\n",
    "print(\"Original Degree Sequence\")\n",
    "print(degreeSequence)\n",
    "print(\"Anonymized Degree Sequence\")\n",
    "print(d_hat)\n",
    "print('Anonymization cost is : ', cost)"
   ]
  },
  {
   "cell_type": "markdown",
   "metadata": {},
   "source": [
    "##### Optimization\n",
    "From observation, it can be confirmed that *no anonymous group* is larger than $2k − 1$. If any group is larger than or equal to $2k$, it can be *broken into two subgroups* with equal or lower overall degree-anonymization cost. Which essencially turns out that the preprocessing step $I\\big(d[i,j]\\big)$ does not need to consider all of the combinations of $\\big(i,j\\big)$ but only, $k \\, \\le \\, j-i+1 \\, \\le \\, 2k-1$.\n",
    "<br>\n",
    "Similarly, for every $i$, we do not have to consider all $t$’s in the range $k \\le t \\le i − k$ in Recursion, but only $t$’s in the range $\\max\\big\\{k, i − 2k + 1\\big\\} \\le t \\le i − k$.\n",
    "<br>\n",
    "<br>\n",
    "$$\n",
    "\\begin{equation}\n",
    "Da\\big(d[1, i]\\big) = \\min\\bigg\\{ \\min_{\\max\\{k, \\, i − 2k + 1\\} \\, \\le \\, t \\,  \\le \\, i − k}\\Big\\{Da\\big(d[1, t]\\big)+I\\big(d[t+1, i-k]\\big)\\Big\\}, \\; I\\big(d[1, i]\\big)\\bigg\\}\n",
    "\\end{equation}\n",
    "$$"
   ]
  },
  {
   "cell_type": "code",
   "execution_count": 8,
   "metadata": {},
   "outputs": [],
   "source": [
    "def DPA_GetAnonymizedDegrees_Optimized(d, k):\n",
    "    nodesCount = len(d)\n",
    "\n",
    "    if  nodesCount < 2*k:\n",
    "        return Identical(d)\n",
    "    else:\n",
    "        pairs=[]\n",
    "        min_t=max(k,(nodesCount - 2*k+1))\n",
    "        for t in range( min_t , nodesCount-k+1 , 1):\n",
    "            DAcost,DA_d =DPA_GetAnonymizedDegrees_Optimized(d[0:t],k)\n",
    "            DA_Icost,DA_Id=Identical(d[t:nodesCount])\n",
    "            All_cost=DAcost+DA_Icost\n",
    "            All_d=DA_d+DA_Id\n",
    "            Icost,Id=Identical(d[0:nodesCount])\n",
    "            if(All_cost >Icost ):\n",
    "                pairs.append((Icost,Id))\n",
    "            else:\n",
    "                pairs.append((All_cost,All_d))\n",
    "            \n",
    "        return   min(pairs, key=operator.itemgetter(0))"
   ]
  },
  {
   "cell_type": "code",
   "execution_count": 9,
   "metadata": {},
   "outputs": [
    {
     "name": "stdout",
     "output_type": "stream",
     "text": [
      "Original Degree Sequence\n",
      "[(8, 5), (1, 4), (4, 4), (6, 4), (5, 4), (2, 3), (3, 3), (9, 3), (7, 2)]\n",
      "Anonymized Degree Sequence\n",
      "[(8, 5), (1, 5), (4, 5), (6, 4), (5, 4), (2, 4), (3, 3), (9, 3), (7, 3)]\n",
      "Anonymization cost is :  4\n"
     ]
    }
   ],
   "source": [
    "\n",
    "k = 3\n",
    "cost, d_hat = DPA_GetAnonymizedDegrees_Optimized(degreeSequence, k)\n",
    "print(\"Original Degree Sequence\")\n",
    "print(degreeSequence)\n",
    "print(\"Anonymized Degree Sequence\")\n",
    "print(d_hat)\n",
    "print('Anonymization cost is : ', cost)"
   ]
  },
  {
   "cell_type": "markdown",
   "metadata": {},
   "source": [
    "#### Memorized Dynamic Programing\n",
    "There is one more way to bring down the run-time of this algorithm, that is by *memorization*.which ensures that a method doesn't run for the same inputs more than once by keeping a record of the results for the given inputs (usually in a hash map).<br>\n",
    "In the whole recursion heap some anonymized sub-sequence (*t*) appears multiple number of times. To be more specific, every time when the tuple (*t, nodesCount*) appears. But we are spending computational resources every time. \n",
    "<br>\n",
    "Instead we can **memorize** the *anonymization cost* and *anonymized sub-sequence* and recall it every time we encounter the specific tuple through out the entire heap. We will use (*t, nodesCount*) as **key** to store (anonymization cost, anonymized sub-sequence) as its **value** in a Dictionary called *cache*. By default Python Dictionary will store the key as a *hash* value in its key space. So, serching for a *value* using *key* is constant in time. Which, as opposed to storing them as lists will not affect the time complexity of the algorithm.   \n",
    "<br>\n"
   ]
  },
  {
   "cell_type": "code",
   "execution_count": 10,
   "metadata": {},
   "outputs": [],
   "source": [
    "def DPA_GetAnonymizedDegrees_Optimized_memorized(d, k,cache=dict()):\n",
    "    if not cache :\n",
    "        cache = dict()\n",
    "\n",
    "    nodesCount = len(d)\n",
    "\n",
    "    if  nodesCount < 2*k:\n",
    "        return Identical(d)\n",
    "    else:\n",
    "        pairs=[]\n",
    "        min_t=max(k,(nodesCount - 2*k+1))\n",
    "        for t in range( min_t , nodesCount-k+1 , 1):\n",
    "            if (t,nodesCount) in cache.keys():\n",
    "                record_found = cache.get((t, nodesCount))\n",
    "                t_cost, anonymized_t = record_found[0], record_found[1]\n",
    "            else:  \n",
    "                DAcost,DA_d =DPA_GetAnonymizedDegrees_Optimized_memorized(d[0:t],k,cache)\n",
    "                DA_Icost,DA_Id=Identical(d[t:nodesCount])\n",
    "                All_cost=DAcost+DA_Icost\n",
    "                All_d=DA_d+DA_Id\n",
    "                Icost,Id=Identical(d[0:nodesCount])\n",
    "                if(All_cost >Icost ):\n",
    "                    t_cost,anonymized_t=Icost,Id                   \n",
    "                else:\n",
    "                    t_cost,anonymized_t=All_cost,All_d              \n",
    "                cache[(t, nodesCount)] = (t_cost,anonymized_t)\n",
    "            pairs.append((t_cost,anonymized_t))\n",
    "            \n",
    "        return   min(pairs, key=operator.itemgetter(0))"
   ]
  },
  {
   "cell_type": "markdown",
   "metadata": {},
   "source": [
    "#### 2.2.2. Greedy Aproach Algorithm (GA)\n",
    "\n",
    "As the previous algorithm, let's assuem that we have a degree sequance $d$ of dimention n. This algorithm takes as an input a degree sequance $d$ and an integer $K$, and trys to generate k-degree anonymized degree sequance $\\hat{d}$ according to below:\n",
    "<br> The Greedy algorithm first forms a group consisting of the first $k$ highest-degree nodes and assigns to all of them degree $d\\big(1\\big)$. Then it checks whether it should merge the $\\big(k + 1\\big)_{th}$ node into the previously formed group or start a new group at position $\\big(k + 1\\big)$. For taking this decision the algorithm computes the following two costs:\n",
    "$$\n",
    "    \\begin{equation}\n",
    "        C_{merge} = \\big(d\\big(1\\big) - d\\big(k + 1\\big)\\big) + I\\big(d\\big[k+2, 2k+1\\big]\\big)\n",
    "    \\end{equation}\n",
    "$$\n",
    "and\n",
    "$$\n",
    "    \\begin{equation}\n",
    "        C_{new} = I\\big(d\\big[k+1, 2k\\big]\\big)\n",
    "    \\end{equation}\n",
    "$$\n",
    "\n",
    "If $C_{merge}$ is greater than $C_{new}$, a new group starts with the $\\big(k + 1\\big)_{th}$ node and the algorithm proceeds recursively for the sequence $d\\big[k + 1, n\\big]$. Otherwise, the $\\big(k + 1\\big)_{th}$ node is merged to the previous group and the $\\big(k + 2\\big)_{th}$ node is considered for merging or as a starting point of a new group. The algorithm terminates after considering all n nodes."
   ]
  },
  {
   "cell_type": "markdown",
   "metadata": {},
   "source": [
    "##### Python Implementation\n",
    "\n",
    "The algorithm implemenetation is as below:"
   ]
  },
  {
   "cell_type": "code",
   "execution_count": 11,
   "metadata": {},
   "outputs": [],
   "source": [
    "def calc_I(d):\n",
    "    I_cost =sum(abs(d[0][1] - e[1])for e in d)\n",
    "    return I_cost\n",
    "\n",
    "def calc_Cmerge(d, k):\n",
    "    m_cost=(d[0][1]-d[k][1])+calc_I(d[k+1:min(k*2,len(d))])\n",
    "    return m_cost\n",
    "\n",
    "def calc_Cnew(d, k):\n",
    "    Cnew = calc_I(d[k: min(k*2,len(d))])\n",
    "    return Cnew\n",
    "def GA_GetAnonymizedDegrees(d, k):\n",
    "    new_group=[(d[i][0],d[0][1]) for i in range(k)]\n",
    "    merge=True\n",
    "    index=0\n",
    "    while(merge):\n",
    "        if(len(d[index:])<= k):\n",
    "            rest =[(e[0],d[0][1]) for e in d[k+index:]]\n",
    "            rrr=new_group+rest\n",
    "            return rrr\n",
    "        cMerge = calc_Cmerge(d[index:],k)\n",
    "        cNew = calc_Cnew(d[index:], k)\n",
    "        if (cMerge > cNew and len(d[k+index:]) >= k):\n",
    "            merge=False\n",
    "            return new_group+GA_GetAnonymizedDegrees(d[k+index:],k)\n",
    "        else:\n",
    "            new_group.append((d[k+index][0],d[0][1]))\n",
    "            index +=1\n"
   ]
  },
  {
   "cell_type": "markdown",
   "metadata": {},
   "source": [
    "##### Checking if our algorithm actually works\n",
    "Based on the previously created degree sequance, let's check our Greedy Aproach graph anonymization algorithm."
   ]
  },
  {
   "cell_type": "code",
   "execution_count": 12,
   "metadata": {},
   "outputs": [
    {
     "name": "stdout",
     "output_type": "stream",
     "text": [
      "Original Degree Sequence\n",
      "[(8, 5), (1, 4), (4, 4), (6, 4), (5, 4), (2, 3), (3, 3), (9, 3), (7, 2)]\n",
      "Anonymized Degree Sequence\n",
      "[(8, 5), (1, 5), (4, 5), (6, 4), (5, 4), (2, 4), (3, 3), (9, 3), (7, 3)]\n",
      "Anonymization cost is :  4\n"
     ]
    }
   ],
   "source": [
    "\n",
    "k = 3\n",
    "d_hat = GA_GetAnonymizedDegrees(degreeSequence, k)\n",
    "print(\"Original Degree Sequence\")\n",
    "print(degreeSequence)\n",
    "print(\"Anonymized Degree Sequence\")\n",
    "print(d_hat)\n",
    "cost =sum(abs(d_hat[i][1]-degreeSequence[i][1])for i in range(len(degreeSequence)))\n",
    "print('Anonymization cost is : ', cost)"
   ]
  },
  {
   "cell_type": "markdown",
   "metadata": {},
   "source": [
    "***"
   ]
  },
  {
   "cell_type": "markdown",
   "metadata": {},
   "source": [
    "## 3. Anonymized Graph Construction"
   ]
  },
  {
   "cell_type": "markdown",
   "metadata": {},
   "source": [
    "After creating an anonymized degree sequance, we need to construct a graph $\\hat{G}$ according to anonymized degree sequance $\\hat{d}$. So for a given graph $G\\big(V, E\\big)$ and an anonymized degree sequance $\\hat{d}$ output by one of the previous algorithms **DP** or **GA**, we need to construct a new graph $\\hat{G}\\big(V, \\hat{E}\\big)$ with $\\hat{E} \\cap E = E$ and a degree sequance $d_{\\hat{G}}$ with $d_{\\hat{G}} = \\hat{d}$"
   ]
  },
  {
   "cell_type": "markdown",
   "metadata": {},
   "source": [
    "### 3.1. Construct Graph Algorithm\n",
    "\n",
    "The **ConstructGraph** algorithm takes as input the desired degree sequence $d$ and outputs a graph with exactly this degree sequence, if such graph exists. Otherwise it outputs a *“No”* if such graph does not exist. The algorithm is iterative and in each step it maintains the residual degrees of vertices. In each iteration it picks an arbitrary node $v$ and adds edges from $v$ to $d\\big(v\\big)$ nodes of highest residual degree, where $d\\big(v\\big)$ is the residual degree of $v$. The residual degrees of these $d\\big(v\\big)$ nodes are decreased by one. If the algorithm terminates and outputs a graph, then this graph has the desired degree sequence. If at some point the algorithm cannot make the required number of connections for a specific node, then it outputs *“No”* meaning that the input degree sequence is not realizable.\n",
    "\n",
    "Note that the **ConstructGraph** algorithm is an oracle for the realizability of a given degree sequence; if the algorithm outputs *“No”*, then this means that there does not exist a simple graph with the desired degree sequence."
   ]
  },
  {
   "cell_type": "markdown",
   "metadata": {},
   "source": [
    "#### Function - getRandomIndex -\n",
    "\n",
    "A function that takes one parameter, finally provide an index of the input array that has the highest value\n",
    "1. **d:** an anonymized degree sequance"
   ]
  },
  {
   "cell_type": "code",
   "execution_count": 13,
   "metadata": {},
   "outputs": [],
   "source": [
    "def getRandomIndex(d):\n",
    "    positiveValues = d[d>0]\n",
    "    positiveValueIndex = randrange(np.size(positiveValues))\n",
    "    return np.argmax(d == positiveValues[positiveValueIndex])"
   ]
  },
  {
   "cell_type": "markdown",
   "metadata": {},
   "source": [
    "#### Python Implementation\n",
    "\n",
    "The algorithm implemenetation is as below:"
   ]
  },
  {
   "cell_type": "code",
   "execution_count": 14,
   "metadata": {},
   "outputs": [],
   "source": [
    "def getVdv(d, nodeIndex, numberOfConnection):\n",
    "    tempd = np.copy(d)\n",
    "    vdv = np.empty(0)\n",
    "    while True:\n",
    "        index = np.argmax(tempd)\n",
    "        allIndexes = np.where(d == d[index])[0]\n",
    "        for i in range(0, np.size(allIndexes)):\n",
    "            tempd[allIndexes[i]] = 0\n",
    "            vdv = np.append(vdv, allIndexes[i])\n",
    "            if (np.size(vdv) == numberOfConnection):\n",
    "                break\n",
    "        if (np.size(vdv) == numberOfConnection):\n",
    "            break; \n",
    "    return vdv\n",
    "    \n",
    "    \n",
    "def graphGenerate(d):\n",
    "    dnp = np.array(list(map(lambda x:x[1], d)))\n",
    "    newGraph = nx.Graph()\n",
    "    newGraph.add_nodes_from([d[i][0] for i in range(0,len(d))])\n",
    "    #print(newGraph.nodes)\n",
    "    if (np.sum(dnp) % 2 != 0):\n",
    "        return ('No', None)\n",
    "    while True:\n",
    "        if (np.size(dnp[dnp<0]) > 0):\n",
    "            return ('Unrelaiable', None)\n",
    "        if (np.size(dnp[dnp == 0]) == np.size(dnp)):\n",
    "            return ('', newGraph)\n",
    "        nodeIndex = getRandomIndex(dnp)\n",
    "        numberOfConnection = dnp[nodeIndex]\n",
    "        dnp[nodeIndex] = 0\n",
    "        vdv = getVdv(dnp, nodeIndex, numberOfConnection)\n",
    "        for i in range(0, np.size(vdv)):\n",
    "            index = int(vdv[i])\n",
    "            dnp[index] = dnp[index] - 1\n",
    "            currentNode = d[nodeIndex][0]\n",
    "            connectedNode = d[index][0]\n",
    "            newGraph.add_edge(currentNode, connectedNode)"
   ]
  },
  {
   "cell_type": "markdown",
   "metadata": {},
   "source": [
    "#### Checking if our algorithm actually works\n",
    "Based on the previously created algorithm, let's check our work."
   ]
  },
  {
   "cell_type": "code",
   "execution_count": 15,
   "metadata": {},
   "outputs": [
    {
     "name": "stdout",
     "output_type": "stream",
     "text": [
      "[(8, 5), (1, 5), (4, 5), (6, 4), (5, 4), (2, 4), (3, 3), (9, 3), (7, 3)]\n"
     ]
    },
    {
     "data": {
      "image/png": "[encoded data removed]",
      "text/plain": [
       "<Figure size 432x288 with 1 Axes>"
      ]
     },
     "metadata": {},
     "output_type": "display_data"
    }
   ],
   "source": [
    "d_hat = GA_GetAnonymizedDegrees(degreeSequence, k)\n",
    "print(d_hat)\n",
    "data = graphGenerate(d_hat)\n",
    "if data[0] == '':\n",
    "    nx.draw(data[1])\n",
    "else:\n",
    "    print(data[0])"
   ]
  },
  {
   "cell_type": "markdown",
   "metadata": {},
   "source": [
    "### 3.2. SuperGraph Algorithm\n",
    "\n",
    "Another algorithm works as an extension of the **ConstractGraph** algorithm, it is called the **SuperGraph** algorithm. The inputs of this algorithm are the original graph $G$ and the desired k-anonymous degree distribution \\hat{d}. The algorithm operates on the sequence of additional degrees $a = \\hat{d} - d_{G}$ in a manner similar to the one the **ConstractGraph** algorithm operates on the degrees $d$. However, since $\\hat{G}$ is drawn on top of the original graph $G$, we have the additional constraint that edges already in $G$ cannot be drawn again.\n",
    "\n",
    "It proceeds iteratively and in each step it maintains the residual additional degrees a of the vertices. In each iteration it picks an arbitrary vertex $v$ and adds edges from $v$ to $a\\big(v\\big)$ vertices of highest residual additional degree, ignoring nodes $v_{0}$ that are already connected to $v$ in $G$. For every new edge $\\big(v,v_{0}\\big), a\\big(v_{0}\\big)$ is decreased by 1. If the algorithm terminates and outputs a graph, then this graph has degree sequence $\\hat{d}$ and is a supergraph of the original graph. If the algorithm does not terminate, then it outputs *“Unknown”*, meaning that there might exist a graph, but the algorithm is unable to find it. Though **Supergraph** is similar to **ConstructGraph**, it is not an oracle. That is, if the algorithm does not return a graph $\\hat{G}$ supergraph of $G$, it does not necessarily mean that such a graph does not exist."
   ]
  },
  {
   "cell_type": "markdown",
   "metadata": {},
   "source": [
    "#### Python Implementation\n",
    "\n",
    "The algorithm implemenetation is as below:"
   ]
  },
  {
   "cell_type": "code",
   "execution_count": 16,
   "metadata": {},
   "outputs": [],
   "source": [
    "#Subgraph Generation\n",
    "def superGraphAlgorithm(graph, k, dNew):\n",
    "    d = getNodesDegreesArray(graph)\n",
    "    originalDegrees = np.array(list(map(lambda x:x[1], d)))\n",
    "    anonymizedDegrees = np.array(list(map(lambda x:x[1], dNew)))\n",
    "    a = anonymizedDegrees - originalDegrees\n",
    "    if (np.sum(a) % 2 != 0):\n",
    "        return ('No', None)\n",
    "    while True:\n",
    "        if (np.size(a[a<0]) > 0):\n",
    "            return ('Unrelaiable', None)\n",
    "        if (np.size(a[a == 0]) == np.size(a)):\n",
    "            return ('', graph)\n",
    "        nodeIndex = getRandomIndex(a)\n",
    "        numberOfRemainingConnecions = a[nodeIndex]\n",
    "        a[nodeIndex] = 0\n",
    "        vdv = getVdv(a, nodeIndex, numberOfRemainingConnecions)\n",
    "        for i in range(0, np.size(vdv)):\n",
    "            index = int(vdv[i])\n",
    "            a[index] = a[index] - 1\n",
    "            currentNode = dNew[nodeIndex][0]\n",
    "            connectedNode = dNew[index][0]\n",
    "            graph.add_edge(currentNode, connectedNode)"
   ]
  },
  {
   "cell_type": "markdown",
   "metadata": {},
   "source": [
    "#### Checking if our algorithm actually works\n",
    "Based on the previously created algorithm, let's check our work."
   ]
  },
  {
   "cell_type": "code",
   "execution_count": 17,
   "metadata": {},
   "outputs": [
    {
     "name": "stdout",
     "output_type": "stream",
     "text": [
      "[(8, 5), (1, 5), (4, 5), (6, 4), (5, 4), (2, 4), (3, 3), (9, 3), (7, 3)]\n"
     ]
    },
    {
     "data": {
      "image/png": "[encoded data removed]",
      "text/plain": [
       "<Figure size 432x288 with 1 Axes>"
      ]
     },
     "metadata": {},
     "output_type": "display_data"
    }
   ],
   "source": [
    "copyGraph = graph.copy()\n",
    "d_hat = GA_GetAnonymizedDegrees(degreeSequence, k)\n",
    "print(d_hat)\n",
    "data = superGraphAlgorithm(copyGraph, k, d_hat)\n",
    "if data[0] == '':\n",
    "    nx.draw(data[1])\n",
    "else:\n",
    "    print(data[0])"
   ]
  },
  {
   "cell_type": "markdown",
   "metadata": {},
   "source": [
    "### 3.3. The Probing Scheme Algorithm\n",
    "\n",
    "The **Probing** scheme algorithm introduced to force the **supergraph** algorithm to output the desired k-degree anonymous graph with a little extra cost. This scheme is in fact a randomized iterative process that tries to slightly change the degree sequance $\\hat{d}$.\n",
    "\n",
    "This algorithm takes as an input a graph $G\\big(V, E\\big)$ and an integer $K$, the **Probing** scheme first construct the k-anonymous sequance $\\hat{d}$ by invoking the **DP** or **GA**. If the subsequent call to the **Supergraph** algorithm returns a graph $\\hat{G}$, then the **Probing** outputs this graph and halts. Otherwise, if the **Supergraph** algorithm returns *\"No\"* or *\"Unknown\"*, then the **Probing** slightly increase some of the entries in $d$ via the addition of uniform noise. The new noisy version of $d$ is then fed as input to **DP** or **GA** again. \n",
    "A new version of the $\\hat{d}$ is thus constructed and input to the Supergraph algorithm to be checked. The process of noise addition and checking is repeated until a graph is output by Supergraph. Note that this process will always terminate because in the worst case, the noisy version of $d$ will contain all entries equal to $n - 1$, and there exists a complete graph that satisfies this sequence and is k-degree anonymous with $E \\subseteq \\hat{E}$"
   ]
  },
  {
   "cell_type": "markdown",
   "metadata": {},
   "source": [
    "#### Python Implementation\n",
    "\n",
    "The algorithm implemenetation is as below:"
   ]
  },
  {
   "cell_type": "code",
   "execution_count": 18,
   "metadata": {},
   "outputs": [],
   "source": [
    "def addNoiseTo(d):\n",
    "    nodeNumber = len(d)\n",
    "    noise = np.random.choice([0, 1], size= nodeNumber)\n",
    "    for i in range(0, nodeNumber):\n",
    "        if d[i][1] < nodeNumber - 1:\n",
    "            d[i] = (d[i][0], d[i][1] + noise[i])\n",
    "        \n",
    "    sortedD = sorted(d, key=lambda x:x[1], reverse=True)\n",
    "    return sortedD\n",
    "    \n",
    "    \n",
    "def probingScheme(graph, k):\n",
    "    d = getNodesDegreesArray(graph)\n",
    "    dNew = GA_GetAnonymizedDegrees(d, k)\n",
    "    data = superGraphAlgorithm(graph, k, dNew)\n",
    "    while data[0] == 'No' or data[0] == 'Unrelaiable':\n",
    "        d = addNoiseTo(d)\n",
    "        dNew = GA_GetAnonymizedDegrees(d, k)\n",
    "        data = superGraphAlgorithm(graph, k, dNew)\n",
    "    return data[1]"
   ]
  },
  {
   "cell_type": "markdown",
   "metadata": {},
   "source": [
    "#### Checking if our algorithm actually works\n",
    "Based on the previously created algorithm, let's check our work."
   ]
  },
  {
   "cell_type": "code",
   "execution_count": 19,
   "metadata": {},
   "outputs": [
    {
     "data": {
      "image/png": "[encoded data removed]",
      "text/plain": [
       "<Figure size 432x288 with 1 Axes>"
      ]
     },
     "metadata": {},
     "output_type": "display_data"
    }
   ],
   "source": [
    "copyGraph = graph.copy()\n",
    "newGraph = probingScheme(copyGraph, k)\n",
    "nx.draw(newGraph)"
   ]
  },
  {
   "cell_type": "markdown",
   "metadata": {},
   "source": [
    "### 3.4. The Greedy_Swap Algorithm\n",
    "\n",
    "Let $\\hat{d}$ be a k-anonymous degree sequence output by **DP** or **GA** algorithms. Let's additionally assume for now, that $\\hat{d}$ is realizable so that the **ConstructGraph** algorithm with input $\\hat{d}$, outputs a simple graph $\\hat{G}_{0}\\big(V, \\hat{E}_{0}\\big)$ with degree sequence exactly $\\hat{d}$. Although $\\hat{G}_{0}$ is k-degree anonymous, its structure may be quite different from the original graph $G\\big(V, E\\big)$. The **Greedy_Swap** algorithm is a greedy heuristic that given $\\hat{G}_{0}$ and $G$, it transforms $\\hat{G}_{0}$ into $\\hat{G}\\big(V, \\hat{E}\\big)$ with degree sequence $d_{\\hat{G}} = \\hat{d} = d_{\\hat{G}_{0}}$ and $E \\cap \\hat{E} \\approx E$. \n",
    "\n",
    "At every step $i$, the graph $\\hat{G}_{i-1}\\big(V, \\hat{E}_{i-1}\\big)$ is transformed into graph $\\hat{G}_{i}\\big(V, \\hat{E}_{i}\\big)$ such that $\\hat{d}_{\\hat{G}_{0}} = \\hat{d}_{\\hat{G}_{i-1}} = \\hat{d}_{\\hat{G}_{i}} = \\hat{d}$ and $\\big|\\hat{E}_{i}\\cap E\\big| \\gt \\big|\\hat{E}_{i-1}\\cap E\\big|$. The transformation is done via valid swap operation:\n",
    "<br>**Transformation:**\n",
    "<br>*Consider graph $\\hat{G}_{i}\\big(V, \\hat{E}_{i}\\big)$. A valid swap operation is defined by four nodes $i, j, k$ and $l$ of $\\hat{G}_{i}\\big(V, \\hat{E}_{i}\\big)$ such that $\\big(i, k\\big) \\in \\hat{E}_{i}$ and $\\big(j, l\\big) \\in \\hat{E}_{i}$ and $\\big(i, j\\big) \\notin \\hat{E}_{i}$ and $\\big(k, l\\big) \\notin \\hat{E}_{i}$, or, $\\big(i, l\\big) \\notin \\hat{E}_{i}$ and $\\big(j, k\\big) \\notin \\hat{E}_{i}$. A valid swap operation trasforms $\\hat{G}_{i}$ to $\\hat{G}_{i+1}$ by updating the edges as following:*\n",
    "$$\n",
    "    \\begin{equation}\n",
    "        \\hat{E}_{i+1} \\longleftarrow \\hat{E}_{i} \\backslash \\big\\{\\big(i, k\\big), \\big(j, l\\big)\\big\\} \\cup \\big\\{\\big(i, j\\big), \\big(k, l\\big)\\big\\}\n",
    "    \\end{equation}\n",
    "$$\n",
    "$$\n",
    "    \\begin{equation}\n",
    "        \\hat{E}_{i+1} \\longleftarrow \\hat{E}_{i} \\backslash \\big\\{\\big(i, k\\big), \\big(j, l\\big)\\big\\} \\cup \\big\\{\\big(i, l\\big), \\big(j, k\\big)\\big\\}\n",
    "    \\end{equation}\n",
    "$$\n",
    "\n",
    "<center><img src=\"./Images/GreedySwap.png\" alt=\"logo\" width=\"450\"/> </center>\n"
   ]
  },
  {
   "cell_type": "markdown",
   "metadata": {},
   "source": [
    "#### Python Implementation\n",
    "\n",
    "The algorithm implemenetation is as below:"
   ]
  },
  {
   "cell_type": "code",
   "execution_count": 20,
   "metadata": {},
   "outputs": [],
   "source": [
    "def graphConstruction(graph, k):\n",
    "    G0 = probingScheme(graph.copy(),k)\n",
    "    G = Greedy_Swap(graph, G0)\n",
    "    return G\n",
    "\n",
    "def Pick20EdgesOf(edgesArr):\n",
    "    neededEdges = []\n",
    "    indexes = np.empty(0)\n",
    "    for i in range(0, 20):\n",
    "        randomIndex = np.random.randint(0, len(edgesArr), 1)\n",
    "        while True:\n",
    "            if randomIndex in indexes[:]:\n",
    "                randomIndex = np.random.randint(0, len(edgesArr), 1)\n",
    "            else:\n",
    "                indexes = np.append(indexes, randomIndex)\n",
    "                break\n",
    "    \n",
    "    for i in range(0, len(indexes)):\n",
    "        idx = int(indexes[i])\n",
    "        currentEdge = edgesArr[idx]\n",
    "        neededEdges.append(currentEdge)\n",
    "    return neededEdges\n",
    "    \n",
    "def FindMaxSwap(graph, newGraph, currentNumberOfIntersection):\n",
    "    currentDegrees = np.array([val for (node, val) in newGraph.degree()])\n",
    "    newTemp = newGraph.copy()\n",
    "    intersectedGraph = nx.algorithms.operators.binary.intersection(graph, newGraph)\n",
    "    c = len(intersectedGraph.edges)\n",
    "    allEdges = list(newGraph.edges)\n",
    "    neededEdges = None\n",
    "    if (len(allEdges) <= 20):\n",
    "        neededEdges = allEdges\n",
    "    else:\n",
    "        neededEdges = Pick20EdgesOf(allEdges)\n",
    "    returncurrent = None\n",
    "    returnSwap = None\n",
    "    returne1 = None\n",
    "    returne2 = None\n",
    "    for i in range(0, len(neededEdges)):\n",
    "        newTemp = newGraph.copy()\n",
    "        currentEdge = neededEdges[i]\n",
    "        for j in  range(i+1, len(neededEdges)):\n",
    "            newTemp = newGraph.copy()\n",
    "            swapedEdge = neededEdges[j]\n",
    "            if (currentEdge[0] != swapedEdge[0]) and (currentEdge[0] != swapedEdge[1]) and (currentEdge[1] != swapedEdge[0]) and (currentEdge[1] != swapedEdge[1]):\n",
    "                e1 = (currentEdge[0], swapedEdge[0])\n",
    "                e2 = (currentEdge[1], swapedEdge[1])\n",
    "                newTemp.remove_edges_from([currentEdge, swapedEdge])\n",
    "                newTemp.add_edges_from([e1, e2])\n",
    "                intersectedGraph = nx.algorithms.operators.binary.intersection(graph, newTemp)\n",
    "                newDegrees = np.sort(np.array([val for (node, val) in newTemp.degree()]))[::-1]\n",
    "                if (len(intersectedGraph.edges) > c) and (np.array_equal(currentDegrees, newDegrees)):\n",
    "                    c = len(intersectedGraph.edges)\n",
    "                    returncurrent = currentEdge\n",
    "                    returnSwap = swapedEdge\n",
    "                    returne1 = e1\n",
    "                    returne2 = e2\n",
    "                    break\n",
    "                \n",
    "                newTemp = newGraph.copy()\n",
    "                e1 = (currentEdge[0], swapedEdge[1])\n",
    "                e2 = (currentEdge[1], swapedEdge[0])\n",
    "                newTemp.remove_edges_from([currentEdge, swapedEdge])\n",
    "                newTemp.add_edges_from([e1, e2])\n",
    "                intersectedGraph = nx.algorithms.operators.binary.intersection(graph, newTemp)\n",
    "                newDegrees = np.sort(np.array([val for (node, val) in newTemp.degree()]))[::-1]\n",
    "                if (len(intersectedGraph.edges) > c) and (np.array_equal(currentDegrees, newDegrees)):\n",
    "                    c = len(intersectedGraph.edges)\n",
    "                    returncurrent = currentEdge\n",
    "                    returnSwap = swapedEdge\n",
    "                    returne1 = e1\n",
    "                    returne2 = e2\n",
    "                    break\n",
    "        if returncurrent != None:\n",
    "            break\n",
    "    \n",
    "    return (c, [returncurrent, returnSwap, returne1, returne2])\n",
    "\n",
    "def Greedy_Swap(originalGraph, G0):\n",
    "    graph = G0\n",
    "    sw = FindMaxSwap(originalGraph, graph, 0)\n",
    "    c = sw[0]\n",
    "    edges = sw[1]\n",
    "    newdegrees = [val for (node, val) in graph.degree()]\n",
    "    while (c > 0):\n",
    "        if (edges[0] != None):\n",
    "            graph.remove_edge(*edges[0])\n",
    "            graph.remove_edge(*edges[1])\n",
    "            graph.add_edge(*edges[2])\n",
    "            graph.add_edge(*edges[3])\n",
    "        sw = FindMaxSwap(originalGraph, graph, 0)\n",
    "        if (sw[0] <= c):\n",
    "            break\n",
    "        else:\n",
    "            c = sw[0]\n",
    "            edges = sw[1]\n",
    "    return graph"
   ]
  },
  {
   "cell_type": "markdown",
   "metadata": {},
   "source": [
    "#### Checking if our algorithm actually works\n",
    "Based on the previously created algorithm, let's check our work."
   ]
  },
  {
   "cell_type": "code",
   "execution_count": 21,
   "metadata": {},
   "outputs": [
    {
     "data": {
      "image/png": "[encoded data removed]",
      "text/plain": [
       "<Figure size 432x288 with 1 Axes>"
      ]
     },
     "metadata": {},
     "output_type": "display_data"
    }
   ],
   "source": [
    "copyGraph = graph.copy()\n",
    "k = 3\n",
    "newGraph = graphConstruction(copyGraph, k)\n",
    "nx.draw(newGraph)"
   ]
  },
  {
   "cell_type": "markdown",
   "metadata": {},
   "source": [
    "### 3.5. The Priority Algorithm\n",
    "\n",
    "An additional modification of the **ConstructGraph** algorithm that allows the construction of degree anonymous graphs with similar high edge intersection with the original graph directly, without using **Greedy_Swap**. We call this algorithm the Priority algorithm because during the graph-construction phase, it gives priority to already existing edges in the input graph $G\\big(V , E\\big)$. The intersections we obtain using the **Priority** algorithm are comparable, if not better, to the intersections we obtain using the **Greedy_Swap** algorithm. However, the **Priority** algorithm is less computationally demanding than the naive implementation of the **Greedy_Swap** procedure.\n",
    "\n",
    "The **Priority** algorithm is similar to the **ConstructGraph**. Recall that the **ConstructGraph** algorithm at every step picks a node $v$ with residual degree $\\hat{d}\\big(v\\big)$ and connects it to $\\hat{d}\\big(v\\big)$ nodes with the highest residual degree. **Priority** works in a similar manner with the only difference that it makes two passes over the sorted degree $\\hat{d}$ of the remaining nodes. In the first pass, it considers only nodes $\\acute{v}$ such that $\\hat{d}\\big(\\acute{v}\\big) \\gt 0$ and edge $\\big(v, \\acute{v}\\big) \\in E$. If there are less that $\\hat{d}\\big(v\\big)$ such nodes it makes a second pass considering nodes $\\acute{v}$ such that $\\hat{d}\\big(v\\big) \\gt 0$ and edge $\\big(v, \\acute{v}\\big) \\notin E$. In that way **Priority** tries to connect node $v$ to as many of his neighbors in the input graph $G$. The graphs thus constructed share lots of edges with the input graph. In terms of running time, the **Priority** algorithm is the same as **ConstructGraph**.\n",
    "\n",
    "In the case where **Priority** fails to construct a graph by reaching a dead-end in the edge-allocation process, the **Probing** scheme is employed; and random noise addition is enforced until the **Priority** algorithm outputs a valid graph."
   ]
  },
  {
   "cell_type": "markdown",
   "metadata": {},
   "source": [
    "#### Python Implementation\n",
    "\n",
    "The algorithm implemenetation is as below:"
   ]
  },
  {
   "cell_type": "code",
   "execution_count": 22,
   "metadata": {},
   "outputs": [],
   "source": [
    "def getNodeIndex(nodes, nodeName):\n",
    "    nodeIndex = np.argmax(nodes == nodeName)\n",
    "    return nodeIndex\n",
    "\n",
    "def getVdvPriority(originalGraph, currentGraph, dNew, npDNew, nodeName, nodeIndex, numberOfConnection):\n",
    "    nodes = np.array(list(map(lambda x: x[0], dNew)))\n",
    "    tempd = np.copy(npDNew)\n",
    "    vdv = np.empty(0)\n",
    "    currentNodeEdges = list(currentGraph.edges(nodeName))\n",
    "    currentConnectedNodes = list(map(lambda x:x[1], currentNodeEdges))\n",
    "    \n",
    "    connectedNodes = np.array(list(map(lambda x: x[1],list(originalGraph.edges(nodeName)))))\n",
    "    filteredConnectedNodes = list(filter(lambda x: x not in currentConnectedNodes, connectedNodes))\n",
    "    for i in range(0, np.size(connectedNodes)):\n",
    "        idx = getNodeIndex(nodes, connectedNodes[i])\n",
    "        tempd[idx] = 0.0\n",
    "        if (connectedNodes[i] in filteredConnectedNodes):\n",
    "            vdv = np.append(vdv, idx)\n",
    "        \n",
    "    if np.size(vdv) < numberOfConnection:\n",
    "        while True:\n",
    "            index = np.argmax(tempd)\n",
    "            allIndexes = np.where(npDNew == npDNew[index])[0]\n",
    "            for i in range(0, np.size(allIndexes)):\n",
    "                if tempd[allIndexes[i]] != 0.0:\n",
    "                    tempd[allIndexes[i]] = 0.0\n",
    "                    vdv = np.append(vdv, allIndexes[i])\n",
    "                    if (np.size(vdv) == numberOfConnection):\n",
    "                        break\n",
    "            if (np.size(vdv) == numberOfConnection):\n",
    "                break;\n",
    "    else:\n",
    "        vdv = vdv[0:numberOfConnection]\n",
    "    return vdv\n",
    "    \n",
    "    \n",
    "def PriorityAlgorithm(originalGraph, dNew):\n",
    "    #start_timer = time.time()\n",
    "    newGraph = nx.Graph()\n",
    "    newGraph.add_nodes_from([dNew[i][0] for i in range(0,len(dNew))])\n",
    "    npDNew = np.array(list(map(lambda x:x[1], dNew)))\n",
    "    if (np.sum(npDNew) % 2 != 0):\n",
    "        #end_timer = time.time()\n",
    "        #print('It takes: ', end_timer-start_timer)\n",
    "        return ('No', None)\n",
    "    while True:\n",
    "        if (np.size(npDNew[npDNew<0]) > 0):\n",
    "            #end_timer = time.time()\n",
    "            #print('It takes: ', end_timer-start_timer)\n",
    "            return ('Unrelaiable', None)\n",
    "        if (np.size(npDNew[npDNew == 0]) == np.size(npDNew)):\n",
    "            #end_timer = time.time()\n",
    "            #print('It takes: ', end_timer-start_timer)\n",
    "            return ('', newGraph)\n",
    "        nodeIndex = getRandomIndex(npDNew)\n",
    "        numberOfConnection = npDNew[nodeIndex]\n",
    "        npDNew[nodeIndex] = 0\n",
    "        nodeName = dNew[nodeIndex][0]\n",
    "        vdv = getVdvPriority(originalGraph, newGraph, dNew, npDNew, nodeName, nodeIndex, numberOfConnection)\n",
    "        for i in range(0, np.size(vdv)):\n",
    "            index = int(vdv[i])\n",
    "            npDNew[index] = npDNew[index] - 1\n",
    "            destNode = dNew[index][0]\n",
    "            newGraph.add_edge(nodeName, destNode)\n",
    "            \n",
    "def checkPriority(graph, k):\n",
    "    #start_timer = time.time()\n",
    "    d = getNodesDegreesArray(graph)\n",
    "    dNew = GA_GetAnonymizedDegrees(d, k)\n",
    "    data = PriorityAlgorithm(graph, dNew)\n",
    "    #print('First:', data[0])\n",
    "    while data[0] == 'No' or data[0] == 'Unrelaiable':\n",
    "        d = addNoiseTo(d)\n",
    "        dNew = GA_GetAnonymizedDegrees(d, k)\n",
    "        data = PriorityAlgorithm(graph, dNew)\n",
    "        #print('Loop:', data[0])\n",
    "    #end_timer = time.time()\n",
    "    #print('It takes: ', end_timer-start_timer)\n",
    "    return data[1]"
   ]
  },
  {
   "cell_type": "markdown",
   "metadata": {},
   "source": [
    "#### Checking if our algorithm actually works\n",
    "Based on the previously created algorithm, let's check our work."
   ]
  },
  {
   "cell_type": "code",
   "execution_count": 24,
   "metadata": {},
   "outputs": [
    {
     "name": "stdout",
     "output_type": "stream",
     "text": [
      "[(8, 7), (8, 1), (8, 5), (8, 6), (8, 9), (1, 3), (1, 7), (1, 2), (1, 4), (4, 3), (4, 2), (4, 6), (4, 5), (6, 2), (6, 5), (5, 7), (2, 9), (3, 9)]\n"
     ]
    },
    {
     "data": {
      "image/png": "[encoded data removed]",
      "text/plain": [
       "<Figure size 432x288 with 1 Axes>"
      ]
     },
     "metadata": {},
     "output_type": "display_data"
    }
   ],
   "source": [
    "copyGraph = graph.copy()\n",
    "k = 3\n",
    "newGraph = checkPriority(copyGraph, k)\n",
    "print(list(newGraph.edges))\n",
    "nx.draw(newGraph)"
   ]
  },
  {
   "cell_type": "markdown",
   "metadata": {},
   "source": [
    "## 4. EXPERIMENTS\n",
    "In this section we evaluate the performance of the proposed\n",
    "graph-anonymization algorithms."
   ]
  },
  {
   "cell_type": "markdown",
   "metadata": {},
   "source": [
    "### 4.1 Datasets\n",
    "We use both synthetic and real-world datasets. For the\n",
    "experiments with synthetic datasets, we generate random and scale-free graphs.<br>\n",
    "#### 4.1.1 Synthetic Datasets\n",
    "**Random graphs:** Random graphs are graphs with nodes\n",
    "randomly connected to each other with probability p. Given\n",
    "the number of nodes n and the parameter p, a random graph\n",
    "is generated by creating an edge between each pair of nodes\n",
    "u and v with probability p.<br>\n",
    "\n",
    "#### 4.1.2 real-world Datasets\n",
    "**Social circles-Facebook :** This dataset (available at https://snap.stanford.edu/data/ego-Facebook.html) consists of 'circles' (or 'friends lists') from Facebook. Facebook data was collected from survey participants using this Facebook app.<br>\n",
    "The dataset contains of 4039 Nodes and 88234 Edges.<br>\n",
    "**LastFM Asia Social Network** A social network of LastFM users(available at https://snap.stanford.edu/data/feather-lastfm-social.html)  which was collected from the public API in March 2020. Nodes are LastFM users from Asian countries and edges are mutual follower relationships between them.<br>\n",
    "The dataset contains of 7624 Nodes and 27806 Edges.<br>\n",
    "\n"
   ]
  },
  {
   "cell_type": "markdown",
   "metadata": {},
   "source": [
    "### 4.2 Evaluating Degree Anonymization algorithms\n",
    "In this experiment we compare the performance (execution time) of the **Dynamic Programming Algorithm (DP)** , the **Optimization DP** algorithm and the **Memorized DP** \n",
    "\n",
    "#### 4.2.1 performance as a function of K\n",
    "Here we measure the performance of the three algorithms while K is increasing with the Synthetic Datasets  (40 nodes) "
   ]
  },
  {
   "cell_type": "code",
   "execution_count": 25,
   "metadata": {},
   "outputs": [],
   "source": [
    "def performance_time(degree_Sequence , k, algorithm):\n",
    "     start_timer = time.time()\n",
    "     algorithm(degree_Sequence, k)\n",
    "     end_timer = time.time()\n",
    "     return end_timer-start_timer"
   ]
  },
  {
   "cell_type": "code",
   "execution_count": 26,
   "metadata": {},
   "outputs": [
    {
     "data": {
      "image/png": "[encoded data removed]",
      "text/plain": [
       "<Figure size 1080x360 with 3 Axes>"
      ]
     },
     "metadata": {
      "needs_background": "light"
     },
     "output_type": "display_data"
    }
   ],
   "source": [
    "Random_graph=nx.fast_gnp_random_graph(n=40,p=0.1,directed=False)\n",
    "Random_graph_DS = getNodesDegreesArray(Random_graph)\n",
    "k_list= [ki for ki in range(3,20,2)]\n",
    "\n",
    "DP_performance_time= [performance_time(Random_graph_DS,ki,DPA_GetAnonymizedDegrees) for ki in k_list]\n",
    "DP_opt_performance_time= [performance_time(Random_graph_DS,ki,DPA_GetAnonymizedDegrees_Optimized) for ki in k_list]   \n",
    "DP_mem_performance_time= [performance_time(Random_graph_DS,ki,DPA_GetAnonymizedDegrees_Optimized_memorized) for ki in k_list]   \n",
    "\n",
    "performance=[DP_performance_time,DP_opt_performance_time,DP_mem_performance_time]\n",
    "titles=[\"Dynamic Programing\",\"Optimized DP\",\"Memorized-Optimized DP\"]\n",
    "alorithms=['DP', 'DP_opt' ,'DP_mem']\n",
    "figure,(alorithms) = plt.subplots(1, 3,figsize=(15,5))\n",
    "figure.subplots_adjust(hspace=0.4, wspace=0.4)\n",
    "for i,a in enumerate(alorithms):\n",
    "    a.plot(k_list, performance[i])\n",
    "    a.set_xticks(k_list)\n",
    "    a.set_xlabel(\"K\")\n",
    "    a.set_ylabel(\"Anonymization Time (s)\")\n",
    "    a.set_title(titles[i])  \n",
    "\n"
   ]
  },
  {
   "cell_type": "markdown",
   "metadata": {},
   "source": [
    "#### 4.2.2 performance as a function of N (Number of Nodes)\n",
    "Here we measure the performance of the three algorithms while N (Number of nodes) is increasing with K = 3) "
   ]
  },
  {
   "cell_type": "code",
   "execution_count": 27,
   "metadata": {},
   "outputs": [
    {
     "data": {
      "image/png": "[encoded data removed]",
      "text/plain": [
       "<Figure size 1080x360 with 3 Axes>"
      ]
     },
     "metadata": {
      "needs_background": "light"
     },
     "output_type": "display_data"
    }
   ],
   "source": [
    "\n",
    "nodes= [n for n in range(10,51,5)]\n",
    "graphs= [getNodesDegreesArray(nx.fast_gnp_random_graph(n,p=0.1,directed=False)) for n in nodes]\n",
    "\n",
    "DP_performance_time= [performance_time(g_ds,3,DPA_GetAnonymizedDegrees) for g_ds in graphs]\n",
    "DP_opt_performance_time= [performance_time(g_ds,3,DPA_GetAnonymizedDegrees_Optimized) for g_ds in graphs]   \n",
    "DP_mem_performance_time= [performance_time(g_ds,3,DPA_GetAnonymizedDegrees_Optimized_memorized) for g_ds in graphs]   \n",
    "\n",
    "performance=[DP_performance_time,DP_opt_performance_time,DP_mem_performance_time]\n",
    "titles=[\"Dynamic Programing\",\"Optimized DP\",\"Memorized-Optimized DP\"]\n",
    "alorithms=['DP', 'DP_opt' ,'DP_mem']\n",
    "figure,(alorithms) = plt.subplots(1, 3,figsize=(15,5))\n",
    "figure.subplots_adjust(hspace=0.4, wspace=0.4)\n",
    "for i,a in enumerate(alorithms):\n",
    "    a.plot(nodes, performance[i])\n",
    "    a.set_xticks(nodes)\n",
    "    a.set_xlabel(\"Nodes\")\n",
    "    a.set_ylabel(\"Anonymization Time (s)\")\n",
    "    a.set_title(titles[i]) \n"
   ]
  },
  {
   "cell_type": "markdown",
   "metadata": {},
   "source": [
    "### 4.2.3  performance ratio\n",
    "The goal of this experiment is to compare the qualitative\n",
    "performance of the **Greedy** and **DP** algorithms in solving\n",
    "the Degree Anonymization problem. We report the results\n",
    "in terms of the performance ratio **R** which is the ratio\n",
    "of the cost of the solution obtained by the Greedy algorithm\n",
    "to the optimal cost obtained by the DP algorithm.<br>\n",
    "$$\n",
    "\\begin{equation}\n",
    "R = \\frac{L\\big(\\hat{d}_{greedy} - d\\big)}{L\\big(\\hat{d}_{dp} - d\\big)}\n",
    "\\end{equation}\n",
    "$$\n",
    "<br>\n",
    "where **d** is the input degree sequence;<br>\n",
    "$\\hat{d}_{greedy}$and $\\hat{d}_{dp}$\n",
    " are the k-anonymous degree sequences output\n",
    "by the **Greedy** and the **DP** algorithms respectively. Values\n",
    "of R close to 1 imply that the two algorithms achieve\n",
    "exactly the same cost, in which case **Greedy** performs optimally.\n",
    "The closer **R** is to 1, the better the performance of\n",
    "the Greedy algorithm."
   ]
  },
  {
   "cell_type": "markdown",
   "metadata": {},
   "source": [
    "#### Structural properties of the graphs used for the experiments.\n",
    "\n",
    "|     | # Nodes | # Edges |\n",
    "| --- | --- | --- |\n",
    "| Random_graph | 1000 | $\\approx$ 50000 |\n",
    "| Social circles-Facebook| 4039 | 88234 |\n",
    "| LastFM Asia Social Network| 7624 | 27806 |\n"
   ]
  },
  {
   "cell_type": "code",
   "execution_count": 28,
   "metadata": {},
   "outputs": [],
   "source": [
    "def performance_ratio(degree_Sequence , k):\n",
    "\n",
    "    DPA_cost, DPA_GetAnonymized = DPA_GetAnonymizedDegrees_Optimized_memorized(degree_Sequence, k)\n",
    "\n",
    "    GA_GetAnonymized=GA_GetAnonymizedDegrees(degree_Sequence, k)\n",
    "    GA_cost= (sum(abs(GA_GetAnonymized[i][1]-degree_Sequence[i][1])for i in range(len(GA_GetAnonymized))) )\n",
    "    \n",
    "    return GA_cost/DPA_cost"
   ]
  },
  {
   "cell_type": "code",
   "execution_count": null,
   "metadata": {},
   "outputs": [],
   "source": [
    "\n",
    "pool = mp.Pool(mp.cpu_count())\n",
    "\n",
    "Random_graph=nx.fast_gnp_random_graph(n=1000,p=0.1,directed=False)\n",
    "Social_circles =kd.readGraphFromFile('Datasets/Social_circles.csv', False)\n",
    "LastFM =kd.readGraphFromFile('Datasets/LastFM.csv', False)\n",
    "\n",
    "Random_graph_DS = kd.getNodesDegreesArray(Random_graph)         # degree Sequence for Random_graph\n",
    "Social_circles_DS = kd.getNodesDegreesArray(Social_circles)     # degree Sequence for Social_circles\n",
    "LastFM_DS = kd.getNodesDegreesArray(LastFM)                     # degree Sequence for LastFM\n",
    "\n",
    "k_list= [ki for ki in range(3,21,2)]\n",
    "\n",
    "Random_graph_performance_ratio= [pool.apply_async(kd.performance_ratio,args=(Random_graph_DS,ki)) for ki in k_list]\n",
    "Social_circles_performance_ratio= [pool.apply_async(kd.performance_ratio,args=(Social_circles_DS,ki)) for ki in k_list]\n",
    "LastFM_performance_ratio= [pool.apply_async(kd.performance_ratio,args=(LastFM_DS,ki)) for ki in k_list]\n",
    "\n",
    "R_results = [r.get() for r in Random_graph_performance_ratio]\n",
    "R_results.sort(key=lambda x: x[0])\n",
    "\n",
    "S_results = [r.get() for r in Social_circles_performance_ratio]\n",
    "S_results.sort(key=lambda x: x[0])\n",
    "L_results = [r.get() for r in LastFM_performance_ratio]\n",
    "L_results.sort(key=lambda x: x[0])\n",
    "\n",
    "N = len(k_list)\n",
    "ind = np.arange(N) \n",
    "width = 0.2\n",
    "plt.figure(figsize=(14, 6))\n",
    "bar1 = plt.bar(ind, list(map(lambda x:x[1],R_results)), width, color = 'maroon')\n",
    "bar2 = plt.bar(ind+width*2, list(map(lambda x:x[1],S_results)), width, color = 'k')\n",
    "bar3 = plt.bar(ind+width*3, list(map(lambda x:x[1],L_results)), width, color = 'teal')\n",
    "\n",
    "\n",
    "plt.xlabel(\"K\")\n",
    "plt.ylabel(\"R (Performance ratio)\")\n",
    "plt.title(\"\")\n",
    "  \n",
    "plt.xticks(ind+width,k_list)\n",
    "plt.legend( (bar1, bar2, bar3), ('Random', 'Social_circles','LastFM') )\n",
    "plt.show()"
   ]
  },
  {
   "cell_type": "markdown",
   "metadata": {},
   "source": [
    "### 4.4 Evaluating Graph Construction algorithms\n",
    "In this section we evaluate the performance of **Supergraph**,\n",
    "**Priority** and **Greedy_Swap** algorithms.\n",
    "\n",
    "#### Anonymization cost  $ L_{1}\\big(d_{A} - d\\big) $ :\n",
    "This is the $ L1  $ norm of\n",
    "the vector of diffrences between the k-anonymous degree\n",
    "sequence obtained using algorithm Algo with Algo $\\in$ { **Supergraph,Priority, Greedy_Swap** } and the degree sequence\n",
    "of the original graph. The smaller the value of $ L_{1}\\big(d_{A} - d\\big)$\n",
    "the better the qualitative performance of the algorithm.<br>\n",
    "The following plot summarize the anonymization\n",
    "cost of the different algorithms as a function of k =\n",
    "{5, 10, 15, 20, 25, 50, 100} for synthetic dataset, LastFM Asia Social Network and Social circles-Facebook data. In the plots we also report the Baseline cost, which\n",
    "refers to the $L1 $ difference between the degree sequence of\n",
    "the original graph and the degree sequence obtained as a\n",
    "solution to the Degree Anonymization problem. The\n",
    "Baseline cost is a lower bound of the difference $ L_{1}\\big(d_{A} - d\\big) $\n",
    "for $\\in$ { **Supergraph,Priority, Greedy_Swap** } ."
   ]
  },
  {
   "cell_type": "code",
   "execution_count": null,
   "metadata": {},
   "outputs": [],
   "source": [
    "def Anonymization_cost(anonymized,original):\n",
    "    cost=sum(abs(anonymized[i][1]-original[i][1])for i in range(len(original)))\n",
    "    return cost"
   ]
  },
  {
   "cell_type": "code",
   "execution_count": null,
   "metadata": {},
   "outputs": [],
   "source": [
    "import KDgree as kd\n",
    "import multiprocessing as mp\n",
    "pool = mp.Pool(mp.cpu_count())\n",
    "\n",
    "\n",
    "Random_graph=nx.fast_gnp_random_graph(n=1000,p=0.1,directed=False)\n",
    "Social_circles =kd.readGraphFromFile('Datasets/Social_circles.csv', False)\n",
    "LastFM =kd.readGraphFromFile('Datasets/LastFM.csv', False)\n",
    "\n",
    "\n",
    "\n",
    "Random_graph_DS = kd.getNodesDegreesArray(Random_graph)         # degree Sequence for Random_graph\n",
    "Social_circles_DS = kd.getNodesDegreesArray(Social_circles)     # degree Sequence for Social_circles\n",
    "LastFM_DS = kd.getNodesDegreesArray(LastFM)                     # degree Sequence for LastFM\n",
    "\n",
    "k_list= [5, 10, 15, 20, 25, 50, 100]\n",
    "\n",
    "Con_Random_graph_Baseline=[ pool.apply_async(kd.Anonymization_cost,args=(kd.GA_GetAnonymizedDegrees,Random_graph,k)) for k in k_list]\n",
    "Con_Random_graph_Supergraph=[ pool.apply_async(kd.Anonymization_cost,args=(kd.probingScheme,Random_graph.copy(),k)) for k in k_list]\n",
    "Con_Random_graph_Priority=[ pool.apply_async(kd.Anonymization_cost,args=(kd.checkPriority,Random_graph.copy(),k)) for k in k_list]\n",
    "Con_Random_graph_Greedy_Swap=[ pool.apply_async(kd.Anonymization_cost,args=(kd.graphConstruction,Random_graph.copy(),k)) for k in k_list]\n",
    "\n",
    "Con_Social_circles_Baseline=[pool.apply_async(kd.Anonymization_cost,args=(kd.GA_GetAnonymizedDegrees,Social_circles,k)) for k in k_list]\n",
    "Con_Social_circles_Supergraph=[ pool.apply_async(kd.Anonymization_cost,args=(kd.probingScheme,Social_circles.copy(),k)) for k in k_list]\n",
    "Con_Social_circles_Priority=[ pool.apply_async(kd.Anonymization_cost,args=(kd.checkPriority,Social_circles.copy(),k)) for k in k_list]\n",
    "Con_Social_circles_Greedy_Swap=[ pool.apply_async(kd.Anonymization_cost,args=(kd.graphConstruction,Social_circles.copy(),k)) for k in k_list]\n",
    "\n",
    "Con_LastFM_Baseline=[ pool.apply_async(kd.Anonymization_cost,args=(kd.GA_GetAnonymizedDegrees,LastFM_DS,k)) for k in k_list]\n",
    "Con_LastFM_Supergraph=[ pool.apply_async(kd.Anonymization_cost,args=(kd.probingScheme,LastFM_DS.copy(),k)) for k in k_list]\n",
    "Con_LastFM_Priority=[ pool.apply_async(kd.Anonymization_cost,args=(kd.checkPriority,LastFM_DS.copy(),k)) for k in k_list]\n",
    "Con_LastFM_Greedy_Swap=[ pool.apply_async(kd.Anonymization_cost,args=(kd.graphConstruction,LastFM_DS.copy(),k)) for k in k_list]\n",
    "\n",
    "Random_graph_Baseline_results = [r.get() for r in Con_Random_graph_Baseline]\n",
    "Random_graph_Baseline_results.sort(key=lambda x: x[0])\n",
    "Random_graph_Supergraph_results = [r.get() for r in Con_Random_graph_Supergraph]\n",
    "Random_graph_Supergraph_results.sort(key=lambda x: x[0])\n",
    "Random_graph_Priority_results = [r.get() for r in Con_Random_graph_Priority]\n",
    "Random_graph_Priority_results.sort(key=lambda x: x[0])\n",
    "Random_graph_Greedy_Swap_results = [r.get() for r in Con_Random_graph_Greedy_Swap]\n",
    "Random_graph_Greedy_Swap_results.sort(key=lambda x: x[0])\n",
    "\n",
    "\n",
    "Social_circles_Baseline_results = [r.get() for r in Con_Social_circles_Baseline]\n",
    "Social_circles_Baseline_results.sort(key=lambda x: x[0])\n",
    "Social_circles_Supergraph_results = [r.get() for r in Con_Social_circles_Supergraph]\n",
    "Social_circles_Supergraph_results.sort(key=lambda x: x[0])\n",
    "Social_circles_Priority_results = [r.get() for r in Con_Social_circles_Priority]\n",
    "Social_circles_Priority_results.sort(key=lambda x: x[0])\n",
    "Social_circles_Greedy_Swap_results = [r.get() for r in Con_Social_circles_Greedy_Swap]\n",
    "Social_circles_Greedy_Swap_results.sort(key=lambda x: x[0])\n",
    "\n",
    "LastFM_Baseline_results = [r.get() for r in Con_LastFM_Baseline]\n",
    "LastFM_Baseline_results.sort(key=lambda x: x[0])\n",
    "LastFM_Supergraph_results = [r.get() for r in Con_LastFM_Supergraph]\n",
    "LastFM_Supergraph_results.sort(key=lambda x: x[0])\n",
    "LastFM_Priority_results = [r.get() for r in Con_LastFM_Priority]\n",
    "LastFM_Priority_results.sort(key=lambda x: x[0])\n",
    "LastFM_Greedy_Swap_results = [r.get() for r in Con_LastFM_Greedy_Swap]\n",
    "LastFM_Greedy_Swap_results.sort(key=lambda x: x[0])\n",
    "\n",
    "\n",
    "Con_Random_graph=[list(map(lambda x:x[1],Random_graph_Baseline_results )),list(map(lambda x:x[1],Random_graph_Supergraph_results )),list(map(lambda x:x[1], Random_graph_Priority_results)),list(map(lambda x:x[1],Random_graph_Greedy_Swap_results ))]\n",
    "Con_Social_circles=[list(map(lambda x:x[1], Social_circles_Baseline_results)),list(map(lambda x:x[1],Social_circles_Supergraph_results )),list(map(lambda x:x[1],Social_circles_Priority_results )),list(map(lambda x:x[1],Social_circles_Greedy_Swap_results ))]\n",
    "Con_LastFM=[list(map(lambda x:x[1],LastFM_Baseline_results)),list(map(lambda x:x[1],LastFM_Supergraph_results)),list(map(lambda x:x[1],LastFM_Priority_results)),list(map(lambda x:x[1],LastFM_Greedy_Swap_results))]\n",
    "\n",
    "all_costs=[Con_Random_graph,Con_Social_circles,Con_LastFM]\n",
    "\n",
    "titles=[\"Synthetic datasets(Random Graph) \",\"Social circles\",\"LastFM\"]\n",
    "algorithms=[\"Baseline\",\"Supergraph\",\"Greedy_Swap\"]\n",
    "datasets=['Random_Graph', 'Social_circles' ,'LastFM']\n",
    "linestyles=[\"-\",\"--\",\"-.\",\":\"]\n",
    "figure,(datasets) = plt.subplots(1, 3,figsize=(15,5))\n",
    "figure.subplots_adjust(hspace=0.4, wspace=0.4)\n",
    "figure.suptitle(\"L1(dA - d) as a function of k\")\n",
    "for i,a in enumerate(datasets):\n",
    "    for j,l in enumerate(algorithms):\n",
    "        a.plot(k_list,all_costs[i][j] ,label =l, linestyle=linestyles[j])\n",
    "    a.set_xticks(k_list)\n",
    "    a.set_xlabel(\"K\")\n",
    "    a.set_ylabel(\"L1(dA - d)\")\n",
    "    a.set_title(titles[i])\n",
    "    a.legend()\n"
   ]
  },
  {
   "cell_type": "code",
   "execution_count": null,
   "metadata": {},
   "outputs": [],
   "source": []
  }
 ],
 "metadata": {
  "interpreter": {
   "hash": "08ac1ca17b2ffc822c400f302fb152e151865c10d5b66bc8126db26219de75f9"
  },
  "kernelspec": {
   "display_name": "Python 3 (ipykernel)",
   "language": "python",
   "name": "python3"
  },
  "language_info": {
   "codemirror_mode": {
    "name": "ipython",
    "version": 3
   },
   "file_extension": ".py",
   "mimetype": "text/x-python",
   "name": "python",
   "nbconvert_exporter": "python",
   "pygments_lexer": "ipython3",
   "version": "3.10.4"
  }
 },
 "nbformat": 4,
 "nbformat_minor": 2
}
